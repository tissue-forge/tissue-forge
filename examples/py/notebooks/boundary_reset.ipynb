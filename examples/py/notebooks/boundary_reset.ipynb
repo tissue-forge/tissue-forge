{
 "cells": [
  {
   "cell_type": "markdown",
   "metadata": {},
   "source": [
    "Boundary Reset\n",
    "===============\n",
    "\n",
    "This example demonstrates how to use the \"reset\" boundary condition to simulate convection through a channel. In reset conditions, the initial concentration of a species is restored for a particle that crosses a reseting boundary. "
   ]
  },
  {
   "cell_type": "markdown",
   "metadata": {},
   "source": [
    "Basic Setup\n",
    "------------\n",
    "\n",
    "Initialize Tissue Forge for flow through a channel along the ``x``-direction with reset conditions. "
   ]
  },
  {
   "cell_type": "code",
   "execution_count": null,
   "metadata": {},
   "outputs": [],
   "source": [
    "import tissue_forge as tf\n",
    "\n",
    "# Initialize a domain like a tunnel, with flow along the x-direction\n",
    "tf.init(dim=[20, 10, 10],\n",
    "        cells=[5, 5, 5],\n",
    "        cutoff=5,\n",
    "        bc={'x': ('periodic', 'reset'), 'y': 'free_slip', 'z': 'free_slip'})"
   ]
  },
  {
   "cell_type": "markdown",
   "metadata": {},
   "source": [
    "Particle  Types\n",
    "----------------\n",
    "\n",
    "Create two particle types, \n",
    "\n",
    "1. one to represent parcels of fluid materials carrying a concentration of a species with entry concentration of ``1.0``, and \n",
    "2. one to act like a flow barrier and concentration sink, with constant species concentration of ``0.0``. "
   ]
  },
  {
   "cell_type": "code",
   "execution_count": null,
   "metadata": {},
   "outputs": [],
   "source": [
    "class CarrierType(tf.ParticleTypeSpec):\n",
    "    \"\"\"A particle type to carry stuff\"\"\"\n",
    "\n",
    "    radius = 0.5\n",
    "    mass = 0.1\n",
    "    species = ['S1']\n",
    "    style = {'colormap': {'species': 'S1', range: (0, 1)}}\n",
    "\n",
    "\n",
    "class SinkType(tf.ParticleTypeSpec):\n",
    "    \"\"\"A particle type to absorb stuff\"\"\"\n",
    "\n",
    "    frozen = True\n",
    "    radius = 1.0\n",
    "    species = ['S1']\n",
    "    style = {'colormap': {'species': 'S1', range: (0, 1)}}\n",
    "\n",
    "\n",
    "carrier_type, sink_type = CarrierType.get(), SinkType.get()\n",
    "\n",
    "carrier_type.species.S1.initial_concentration = 1.0\n",
    "sink_type.species.S1.constant = True"
   ]
  },
  {
   "cell_type": "markdown",
   "metadata": {},
   "source": [
    "Fluid Interactions\n",
    "-------------------\n",
    "\n",
    "Construct fluid interactions for the following cases. \n",
    "\n",
    "1. Fluid particles in the domain interact according to dissipative particle dynamics (DPD). \n",
    "2. Sink particles act like a barrier for fluid flow. "
   ]
  },
  {
   "cell_type": "code",
   "execution_count": null,
   "metadata": {},
   "outputs": [],
   "source": [
    "# Carrier type like a fluid\n",
    "dpd = tf.Potential.dpd(alpha=1, gamma=1, sigma=0.1, cutoff=3 * CarrierType.radius)\n",
    "tf.bind.types(dpd, carrier_type, carrier_type)\n",
    "\n",
    "# Sink type like a barrier\n",
    "rep = cp = tf.Potential.harmonic(k=1000,\n",
    "                                 r0=carrier_type.radius + 1.05 * sink_type.radius,\n",
    "                                 min=carrier_type.radius + sink_type.radius,\n",
    "                                 max=carrier_type.radius + 1.05 * sink_type.radius,\n",
    "                                 tol=0.001)\n",
    "tf.bind.types(rep, carrier_type, sink_type)"
   ]
  },
  {
   "cell_type": "markdown",
   "metadata": {},
   "source": [
    "Convection\n",
    "-----------\n",
    "\n",
    "Apply a constant force to drive fluid flow towards ``+x``, and diffusive transport between fluid particles and, at a faster rate, between fluid and sink particles. "
   ]
  },
  {
   "cell_type": "code",
   "execution_count": null,
   "metadata": {},
   "outputs": [],
   "source": [
    "force = tf.CustomForce([0.01, 0, 0])\n",
    "tf.bind.force(force, carrier_type)\n",
    "\n",
    "tf.Fluxes.flux(carrier_type, carrier_type, \"S1\", 0.001)\n",
    "tf.Fluxes.flux(carrier_type, sink_type, \"S1\", 0.5)"
   ]
  },
  {
   "cell_type": "markdown",
   "metadata": {},
   "source": [
    "Particle Construction\n",
    "----------------------\n",
    "\n",
    "Create a randomly distributed initial population of fluid particles, and place one sink particle at the center of the domain. Be sure that no fluid particles are initialized inside the sink particle. "
   ]
  },
  {
   "cell_type": "code",
   "execution_count": null,
   "metadata": {},
   "outputs": [],
   "source": [
    "# Put a sink at the center and carrier types randomly, though not in the sink\n",
    "st = sink_type(tf.Universe.center)\n",
    "[carrier_type() for _ in range(2000)]\n",
    "to_destroy = []\n",
    "for p in carrier_type.items():\n",
    "    if p.relativePosition(tf.Universe.center).length() < (sink_type.radius + carrier_type.radius) * 1.1:\n",
    "        to_destroy.append(p)\n",
    "[p.destroy() for p in to_destroy]"
   ]
  },
  {
   "cell_type": "code",
   "execution_count": null,
   "metadata": {
    "nbsphinx-thumbnail": {
     "output-index": 0
    },
    "scrolled": false
   },
   "outputs": [],
   "source": [
    "tf.rendering.ClipPlanes.create(tf.Universe.center, tf.FVector3(0, 1, 0))\n",
    "\n",
    "tf.show()"
   ]
  }
 ],
 "metadata": {
  "kernelspec": {
   "display_name": "Python 3 (ipykernel)",
   "language": "python",
   "name": "python3"
  },
  "language_info": {
   "codemirror_mode": {
    "name": "ipython",
    "version": 3
   },
   "file_extension": ".py",
   "mimetype": "text/x-python",
   "name": "python",
   "nbconvert_exporter": "python",
   "pygments_lexer": "ipython3",
   "version": "3.8.13"
  },
  "vscode": {
   "interpreter": {
    "hash": "8bbe464f07c30b8ddcc12659b19f9425a9f52190f1c1f435f11a675a58da2254"
   }
  }
 },
 "nbformat": 4,
 "nbformat_minor": 2
}
