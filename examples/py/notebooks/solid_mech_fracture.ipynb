{
 "cells": [
  {
   "cell_type": "markdown",
   "metadata": {},
   "source": [
    "Fracture\n",
    "=========\n",
    "\n",
    "This example demonstrates constructing a lattice from a custom unit cell to simulate fracture in a two-dimensional elastic sheet."
   ]
  },
  {
   "cell_type": "markdown",
   "metadata": {},
   "source": [
    "Basic Setup\n",
    "------------\n",
    "\n",
    "Begin by initializing Tissue Forge with a quasi-two-dimensional simulation domain. "
   ]
  },
  {
   "cell_type": "code",
   "execution_count": null,
   "metadata": {},
   "outputs": [],
   "source": [
    "import math\n",
    "import tissue_forge as tf\n",
    "\n",
    "tf.init(dim=[40, 20, 3])"
   ]
  },
  {
   "cell_type": "markdown",
   "metadata": {},
   "source": [
    "Particle Types\n",
    "---------------\n",
    "\n",
    "Declare a particle type to represent parcels of solid material, and generate two sub-types, \n",
    "\n",
    "1. for applying a constraint of zero displacement along the ``y``-direction, and \n",
    "2. for applying an external load along the ``y``-direction."
   ]
  },
  {
   "cell_type": "code",
   "execution_count": null,
   "metadata": {},
   "outputs": [],
   "source": [
    "class MtlType(tf.ParticleTypeSpec):\n",
    "    \"\"\"Basic material type\"\"\"\n",
    "\n",
    "    radius = 0.1\n",
    "\n",
    "\n",
    "class BoundaryType(MtlType):\n",
    "    \"\"\"Material type with a zero-displacement condition along ``y``\"\"\"\n",
    "\n",
    "    style = {'color': 'orange'}\n",
    "\n",
    "    @staticmethod\n",
    "    def apply_boundary(p: tf.ParticleHandle):\n",
    "        p.frozen_y = True\n",
    "\n",
    "\n",
    "class LoadedType(MtlType):\n",
    "    \"\"\"Material type on which an external load is applied\"\"\"\n",
    "\n",
    "    style = {'color': 'darkgreen'}\n",
    "\n",
    "\n",
    "mtl_type = MtlType.get()\n",
    "boundary_type = BoundaryType.get()\n",
    "loaded_type = LoadedType.get()"
   ]
  },
  {
   "cell_type": "markdown",
   "metadata": {},
   "source": [
    "Lattice Construction\n",
    "---------------------\n",
    "\n",
    "Construct a ``60x20`` lattice of square unit cells with mid-point and center-point particles for a given lattice constant. Add bonds with Hookean potentials to all neighboring particles within a Manhattan distance of one, where the rest length of each bond corresponds to the distance between its two particles. Make all particles in the unit cell of the basic material type. "
   ]
  },
  {
   "cell_type": "code",
   "execution_count": null,
   "metadata": {},
   "outputs": [],
   "source": [
    "n_lattice = [60, 20]\n",
    "a = 6 * mtl_type.radius\n",
    "stiffness = 1E2\n",
    "pot_border = tf.Potential.harmonic(k=stiffness, r0=a/2)\n",
    "pot_cross = tf.Potential.harmonic(k=stiffness, r0=a/2*math.sqrt(2))\n",
    "bcb_border = lambda i, j: tf.Bond.create(pot_border, i, j)\n",
    "bcb_cross = lambda i, j: tf.Bond.create(pot_cross, i, j)\n",
    "\n",
    "uc_sqcross = tf.lattice.unitcell(N=4,\n",
    "                                 types=[mtl_type] * 4,\n",
    "                                 a1=[a, 0, 0],\n",
    "                                 a2=[0, a, 0],\n",
    "                                 a3=[0, 0, 1],\n",
    "                                 dimensions=2,\n",
    "                                 position=[[0,     0, 0],\n",
    "                                           [a/2,   0, 0],\n",
    "                                           [0,   a/2, 0],\n",
    "                                           [a/2, a/2, 0]],\n",
    "                                 bonds=[\n",
    "                                     tf.lattice.BondRule(bcb_border, (0, 1), (0, 0, 0)),\n",
    "                                     tf.lattice.BondRule(bcb_border, (0, 2), (0, 0, 0)),\n",
    "                                     tf.lattice.BondRule(bcb_cross,  (0, 3), (0, 0, 0)),\n",
    "                                     tf.lattice.BondRule(bcb_cross,  (1, 2), (0, 0, 0)),\n",
    "                                     tf.lattice.BondRule(bcb_border, (1, 3), (0, 0, 0)),\n",
    "                                     tf.lattice.BondRule(bcb_border, (2, 3), (0, 0, 0)),\n",
    "                                     tf.lattice.BondRule(bcb_border, (1, 0), (1, 0, 0)),\n",
    "                                     tf.lattice.BondRule(bcb_cross,  (1, 2), (1, 0, 0)),\n",
    "                                     tf.lattice.BondRule(bcb_cross,  (3, 0), (1, 0, 0)),\n",
    "                                     tf.lattice.BondRule(bcb_border, (3, 2), (1, 0, 0)),\n",
    "                                     tf.lattice.BondRule(bcb_border, (2, 0), (0, 1, 0)),\n",
    "                                     tf.lattice.BondRule(bcb_cross,  (2, 1), (0, 1, 0)),\n",
    "                                     tf.lattice.BondRule(bcb_cross,  (3, 0), (0, 1, 0)),\n",
    "                                     tf.lattice.BondRule(bcb_border, (3, 1), (0, 1, 0)),\n",
    "                                     tf.lattice.BondRule(bcb_cross,  (3, 0), (1, 1, 0)),\n",
    "                                     tf.lattice.BondRule(bcb_cross,  (2, 1), (-1, 1, 0))\n",
    "                                 ])\n",
    "\n",
    "parts = tf.lattice.create_lattice(uc_sqcross, n_lattice)"
   ]
  },
  {
   "cell_type": "markdown",
   "metadata": {},
   "source": [
    "Loading Boundary Conditions\n",
    "----------------------------\n",
    "\n",
    "Construct a list of the row of particles nearest to the Front face (``-y``) of the simulation domain, and another list of the two rows of particles nearest to the Back face (``+y``) of the simulation domain. Make the particles near the Front face of the particle type with the displacement constraint, and make the particles near the Back face of the particle type with the external load. "
   ]
  },
  {
   "cell_type": "code",
   "execution_count": null,
   "metadata": {},
   "outputs": [],
   "source": [
    "p_back, p_front = [], []\n",
    "for i in range(2):\n",
    "    p_front.extend([p[i] for p in parts[:, 0, :].flatten().tolist()])\n",
    "for i in range(4):\n",
    "    p_back.extend([p[i] for p in parts[:, n_lattice[1]-1, :].flatten().tolist()])\n",
    "\n",
    "# Apply types\n",
    "\n",
    "for p in p_front:\n",
    "    p.become(boundary_type)\n",
    "    BoundaryType.apply_boundary(p)\n",
    "for p in p_back:\n",
    "    p.become(loaded_type)"
   ]
  },
  {
   "cell_type": "markdown",
   "metadata": {},
   "source": [
    "Fracture Criterion\n",
    "-------------------\n",
    "\n",
    "If the dissociation energy of a bond is set, then the bond automatically breaks when its potential energy exceeds the dissociation energy. Apply a fracture criterion to bonds between particles of the basic material type by assigning a dissocation energy. "
   ]
  },
  {
   "cell_type": "code",
   "execution_count": null,
   "metadata": {},
   "outputs": [],
   "source": [
    "mtl_ids = [p.id for p in mtl_type.parts]\n",
    "for p in mtl_type.items():\n",
    "    for b in p.bonds:\n",
    "        p1id, p2id = b.parts\n",
    "        if p1id in mtl_ids and p2id in mtl_ids:\n",
    "            b.dissociation_energy = 1E-2"
   ]
  },
  {
   "cell_type": "markdown",
   "metadata": {},
   "source": [
    "External Loading\n",
    "-----------------\n",
    "\n",
    "Apply a constant force to the particle type for external loading along the ``+y`` direction, as well as damping using a friction force. "
   ]
  },
  {
   "cell_type": "code",
   "execution_count": null,
   "metadata": {},
   "outputs": [],
   "source": [
    "f_load = tf.CustomForce([0, 2, 0])\n",
    "f_friction = tf.Force.friction(coef=1000.0)\n",
    "tf.bind.force(f_load + f_friction, loaded_type)"
   ]
  },
  {
   "cell_type": "code",
   "execution_count": null,
   "metadata": {
    "nbsphinx-thumbnail": {
     "output-index": 0
    },
    "scrolled": false
   },
   "outputs": [],
   "source": [
    "tf.system.camera_view_top()\n",
    "tf.show()"
   ]
  }
 ],
 "metadata": {
  "kernelspec": {
   "display_name": "Python 3 (ipykernel)",
   "language": "python",
   "name": "python3"
  },
  "language_info": {
   "codemirror_mode": {
    "name": "ipython",
    "version": 3
   },
   "file_extension": ".py",
   "mimetype": "text/x-python",
   "name": "python",
   "nbconvert_exporter": "python",
   "pygments_lexer": "ipython3",
   "version": "3.8.13"
  },
  "vscode": {
   "interpreter": {
    "hash": "8bbe464f07c30b8ddcc12659b19f9425a9f52190f1c1f435f11a675a58da2254"
   }
  }
 },
 "nbformat": 4,
 "nbformat_minor": 2
}
