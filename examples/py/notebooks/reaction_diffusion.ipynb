{
 "cells": [
  {
   "cell_type": "markdown",
   "id": "59722f32",
   "metadata": {},
   "source": [
    "Reaction Diffusion\n",
    "================\n",
    "\n",
    "This example demonstrates constructing a simulation with reaction diffusion. \n",
    "Each particle carries a concentration of two species \"U\" and \"V\". \n",
    "Species concentrations change according to inter-particle transport (diffusion) \n",
    "and intra-particle interactions (reaction). \n",
    "\n",
    "Inter-particle diffusion occurs using typical Tissue Forge flux transport. \n",
    "Intra-particle reactions are specified in Antimony, which Tissue Forge \n",
    "converts to SBML using integrated libAntimony and executes using integrated libRoadRunner. \n",
    "In general, an arbitrary number of reaction kinetics models can be defined and attached \n",
    "to particles on the basis of particle and particle type. \n",
    "\n",
    "Tissue Forge supports most libRoadRunner features. This example demonstrates how to \n",
    "define a reaction kinetics model, attach it to a particle type, and selectively \n",
    "use different libRoadRunner integrators on the basis of individual particle and model. "
   ]
  },
  {
   "cell_type": "markdown",
   "id": "a3ea838c",
   "metadata": {},
   "source": [
    "Reaction System\n",
    "---------------------\n",
    "\n",
    "Define the Schnakenberg system in Antimony with variables \"U\" and \"V\". The system will be the reaction term of the reaction diffusion system. "
   ]
  },
  {
   "cell_type": "code",
   "execution_count": 1,
   "id": "05b6da47",
   "metadata": {},
   "outputs": [],
   "source": [
    "schnakenberg_string = '''\n",
    "J1: -> U; g * (U * U * V - U + a);\n",
    "J2: -> V; g * (- U * U * V + b);\n",
    "\n",
    "a = 0.1;\n",
    "b = 0.9;\n",
    "g = 1.0;\n",
    "U = 0;\n",
    "V = 0;\n",
    "'''"
   ]
  },
  {
   "cell_type": "markdown",
   "id": "2155e870",
   "metadata": {},
   "source": [
    "Basic Setup\n",
    "---------------\n",
    "\n",
    "Declare a simulation domain with a single particle type. Declare species on the particle type of the same name as the variables in the reaction system. Attach the reaction system to the particle type and map species names to reaction system variable names. Use the universe time step as the reaction system time step. "
   ]
  },
  {
   "cell_type": "code",
   "execution_count": 2,
   "id": "e54b829b",
   "metadata": {},
   "outputs": [],
   "source": [
    "import tissue_forge as tf\n",
    "\n",
    "tf.init(dt=0.01,\n",
    "        dim=[20, 10, 10],\n",
    "        cells=[6, 3, 3],\n",
    "        bc={'x': 'free_slip', 'y': 'free_slip', 'z': 'free_slip'})\n",
    "\n",
    "\n",
    "class AType(tf.ParticleTypeSpec):\n",
    "    radius = 0.1\n",
    "    species = ['U', 'V']\n",
    "    style = {\"colormap\": {\"species\": \"U\", \"range\": (0.0, 3.0)}}\n",
    "    reactions = {'schnakenberg': {'antimony_string': schnakenberg_string,\n",
    "                                  'name_map': [('U', 'U'), ('V', 'V')],\n",
    "                                  'step_size': tf.Universe.dt\n",
    "                                  }}\n",
    "\n",
    "A = AType.get()"
   ]
  },
  {
   "cell_type": "markdown",
   "id": "d9ee3524",
   "metadata": {},
   "source": [
    "Diffusion\n",
    "------------\n",
    "\n",
    "Define flux transport between particles, where the species \"V\" diffuses much faster than the species \"U\". "
   ]
  },
  {
   "cell_type": "code",
   "execution_count": 3,
   "id": "62a1a46f",
   "metadata": {},
   "outputs": [
    {
     "data": {
      "text/plain": [
       "<tissue_forge.tissue_forge.Fluxes; proxy of <Swig Object of type 'TissueForge::Fluxes *' at 0x103f9a060> >"
      ]
     },
     "execution_count": 3,
     "metadata": {},
     "output_type": "execute_result"
    }
   ],
   "source": [
    "diff_rel = 20.0\n",
    "diff_cf = 10.0 / diff_rel\n",
    "flux_cutoff = 0.28\n",
    "tf.Fluxes.flux(A, A, \"U\", diff_cf, cutoff=flux_cutoff)\n",
    "tf.Fluxes.flux(A, A, \"V\", diff_cf * diff_rel, cutoff=flux_cutoff)"
   ]
  },
  {
   "cell_type": "markdown",
   "id": "b4a3e3d9",
   "metadata": {},
   "source": [
    "Deterministic Reaction Diffusion on the Sphere\n",
    "--------------------------------------------------------\n",
    "\n",
    "Make an icosphere and place it at an offset from the center of the universe. Randomly initialize the species \"U\", and initial the species \"V\" as zero. "
   ]
  },
  {
   "cell_type": "code",
   "execution_count": 4,
   "id": "21b2ff2b",
   "metadata": {},
   "outputs": [],
   "source": [
    "import numpy as np\n",
    "\n",
    "sphere_radius = 4.0\n",
    "offset = tf.FVector3(sphere_radius + A.radius, 0, 0)\n",
    "for pos in tf.icosphere(5, 0, 2 * np.pi)[0]:\n",
    "    p = A(position=tf.Universe.center - offset + pos * sphere_radius)\n",
    "    p.species.U.value = np.random.random()\n",
    "    p.species.V.value = 0.0"
   ]
  },
  {
   "cell_type": "markdown",
   "id": "e9c7c079",
   "metadata": {},
   "source": [
    "Stochastic Reaction Diffusion on the Sphere\n",
    "--------------------------------------------------------\n",
    "\n",
    "Make another icosphere and place it at the same offset but with opposite sense from the center of the universe. Randomly initialize the species \"U\", and initial the species \"V\" as zero. Use the Gillespie Stochastic Solver Algorithm for all particles on the sphere. "
   ]
  },
  {
   "cell_type": "code",
   "execution_count": 5,
   "id": "cdbab202",
   "metadata": {},
   "outputs": [],
   "source": [
    "for pos in tf.icosphere(5, 0, 2 * np.pi)[0]:\n",
    "    p = A(position=tf.Universe.center + offset + pos * sphere_radius)\n",
    "    p.species.U.value = np.random.random()\n",
    "    p.species.V.value = 0.0\n",
    "    p.species.reactions['schnakenberg'].integrator_name = \"gillespie\""
   ]
  },
  {
   "cell_type": "code",
   "execution_count": 6,
   "id": "6b1c73e6",
   "metadata": {},
   "outputs": [
    {
     "data": {
      "application/vnd.jupyter.widget-view+json": {
       "model_id": "a637f79efcdb43a380abfd2ca72f5ee5",
       "version_major": 2,
       "version_minor": 0
      },
      "text/plain": [
       "VBox(children=(Image(value=b'\\xff\\xd8\\xff\\xe0\\x00\\x10JFIF\\x00\\x01\\x01\\x00\\x00\\x01\\x00\\x01\\x00\\x00\\xff\\xdb\\x00\\…"
      ]
     },
     "metadata": {},
     "output_type": "display_data"
    }
   ],
   "source": [
    "tf.system.camera_view_front()\n",
    "tf.system.camera_zoom_to(-25)\n",
    "tf.system.decorate_scene(False)\n",
    "tf.show()"
   ]
  }
 ],
 "metadata": {
  "kernelspec": {
   "display_name": "Python 3 (ipykernel)",
   "language": "python",
   "name": "python3"
  },
  "language_info": {
   "codemirror_mode": {
    "name": "ipython",
    "version": 3
   },
   "file_extension": ".py",
   "mimetype": "text/x-python",
   "name": "python",
   "nbconvert_exporter": "python",
   "pygments_lexer": "ipython3",
   "version": "3.8.17"
  }
 },
 "nbformat": 4,
 "nbformat_minor": 5
}
